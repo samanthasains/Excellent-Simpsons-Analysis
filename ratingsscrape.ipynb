{
 "cells": [
  {
   "cell_type": "code",
   "execution_count": 79,
   "metadata": {},
   "outputs": [],
   "source": [
    "import pandas as pd\n",
    "import numpy as np\n",
    "import matplotlib.pyplot as plt\n",
    "from unicodedata import normalize"
   ]
  },
  {
   "cell_type": "code",
   "execution_count": 80,
   "metadata": {},
   "outputs": [],
   "source": [
    "Simpsons_table = pd.read_html('https://en.wikipedia.org/wiki/List_of_The_Simpsons_guest_stars_(seasons_1%E2%80%9320)#Season_1_(1989%E2%80%931990)')"
   ]
  },
  {
   "cell_type": "code",
   "execution_count": 81,
   "metadata": {},
   "outputs": [
    {
     "name": "stdout",
     "output_type": "stream",
     "text": [
      "Total tables: 4\n"
     ]
    }
   ],
   "source": [
    "print(f'Total tables: {len(Simpsons_table)}')"
   ]
  },
  {
   "cell_type": "code",
   "execution_count": 82,
   "metadata": {},
   "outputs": [],
   "source": [
    "SimpsonsGuestStars = pd.read_html('https://en.wikipedia.org/wiki/List_of_The_Simpsons_guest_stars_(seasons_1%E2%80%9320)#Season_1_(1989%E2%80%931990)')[1]"
   ]
  },
  {
   "cell_type": "code",
   "execution_count": 83,
   "metadata": {},
   "outputs": [
    {
     "data": {
      "text/html": [
       "<div>\n",
       "<style scoped>\n",
       "    .dataframe tbody tr th:only-of-type {\n",
       "        vertical-align: middle;\n",
       "    }\n",
       "\n",
       "    .dataframe tbody tr th {\n",
       "        vertical-align: top;\n",
       "    }\n",
       "\n",
       "    .dataframe thead th {\n",
       "        text-align: right;\n",
       "    }\n",
       "</style>\n",
       "<table border=\"1\" class=\"dataframe\">\n",
       "  <thead>\n",
       "    <tr style=\"text-align: right;\">\n",
       "      <th></th>\n",
       "      <th>Season</th>\n",
       "      <th>Guest star</th>\n",
       "      <th>Role(s)</th>\n",
       "      <th>No.</th>\n",
       "      <th>Prod. code</th>\n",
       "      <th>Episode title</th>\n",
       "    </tr>\n",
       "  </thead>\n",
       "  <tbody>\n",
       "    <tr>\n",
       "      <th>0</th>\n",
       "      <td>1</td>\n",
       "      <td>Marcia Wallace</td>\n",
       "      <td>Edna Krabappel Ms. Melon</td>\n",
       "      <td>002–102</td>\n",
       "      <td>7G02</td>\n",
       "      <td>\"Bart the Genius\"</td>\n",
       "    </tr>\n",
       "    <tr>\n",
       "      <th>1</th>\n",
       "      <td>1</td>\n",
       "      <td>Sam McMurray</td>\n",
       "      <td>Worker</td>\n",
       "      <td>003–103</td>\n",
       "      <td>7G03</td>\n",
       "      <td>\"Homer's Odyssey\"[35]</td>\n",
       "    </tr>\n",
       "    <tr>\n",
       "      <th>2</th>\n",
       "      <td>1</td>\n",
       "      <td>Marcia Wallace</td>\n",
       "      <td>Edna Krabappel</td>\n",
       "      <td>003–103</td>\n",
       "      <td>7G03</td>\n",
       "      <td>\"Homer's Odyssey\"</td>\n",
       "    </tr>\n",
       "    <tr>\n",
       "      <th>3</th>\n",
       "      <td>1</td>\n",
       "      <td>Miriam Flynn</td>\n",
       "      <td>Ms. Barr</td>\n",
       "      <td>006–106</td>\n",
       "      <td>7G06</td>\n",
       "      <td>\"Moaning Lisa\"</td>\n",
       "    </tr>\n",
       "    <tr>\n",
       "      <th>4</th>\n",
       "      <td>1</td>\n",
       "      <td>Ron Taylor</td>\n",
       "      <td>Bleeding Gums Murphy</td>\n",
       "      <td>006–106</td>\n",
       "      <td>7G06</td>\n",
       "      <td>\"Moaning Lisa\"[36]</td>\n",
       "    </tr>\n",
       "    <tr>\n",
       "      <th>...</th>\n",
       "      <td>...</td>\n",
       "      <td>...</td>\n",
       "      <td>...</td>\n",
       "      <td>...</td>\n",
       "      <td>...</td>\n",
       "      <td>...</td>\n",
       "    </tr>\n",
       "    <tr>\n",
       "      <th>842</th>\n",
       "      <td>20</td>\n",
       "      <td>Marcia Wallace</td>\n",
       "      <td>Edna Krabappel</td>\n",
       "      <td>438–2018</td>\n",
       "      <td>LABF08</td>\n",
       "      <td>\"Father Knows Worst\"</td>\n",
       "    </tr>\n",
       "    <tr>\n",
       "      <th>843</th>\n",
       "      <td>20</td>\n",
       "      <td>Maurice LaMarche</td>\n",
       "      <td>City Inspector</td>\n",
       "      <td>439–2019</td>\n",
       "      <td>LABF10</td>\n",
       "      <td>\"Waverly Hills 9-0-2-1-D'oh\"[397]</td>\n",
       "    </tr>\n",
       "    <tr>\n",
       "      <th>844</th>\n",
       "      <td>20</td>\n",
       "      <td>Elliot Page[Y]</td>\n",
       "      <td>Alaska Nebraska</td>\n",
       "      <td>439–2019</td>\n",
       "      <td>LABF10</td>\n",
       "      <td>\"Waverly Hills 9-0-2-1-D'oh\"[397]</td>\n",
       "    </tr>\n",
       "    <tr>\n",
       "      <th>845</th>\n",
       "      <td>20</td>\n",
       "      <td>Marcia Wallace</td>\n",
       "      <td>Edna Krabappel</td>\n",
       "      <td>439–2019</td>\n",
       "      <td>LABF10</td>\n",
       "      <td>\"Waverly Hills 9-0-2-1-D'oh\"</td>\n",
       "    </tr>\n",
       "    <tr>\n",
       "      <th>846</th>\n",
       "      <td>20</td>\n",
       "      <td>Jodie Foster</td>\n",
       "      <td>Maggie Simpson</td>\n",
       "      <td>440–2020</td>\n",
       "      <td>LABF09</td>\n",
       "      <td>\"Four Great Women and a Manicure\"[398]</td>\n",
       "    </tr>\n",
       "  </tbody>\n",
       "</table>\n",
       "<p>847 rows × 6 columns</p>\n",
       "</div>"
      ],
      "text/plain": [
       "    Season        Guest star                   Role(s)       No. Prod. code  \\\n",
       "0        1    Marcia Wallace  Edna Krabappel Ms. Melon   002–102       7G02   \n",
       "1        1      Sam McMurray                    Worker   003–103       7G03   \n",
       "2        1    Marcia Wallace            Edna Krabappel   003–103       7G03   \n",
       "3        1      Miriam Flynn                  Ms. Barr   006–106       7G06   \n",
       "4        1        Ron Taylor      Bleeding Gums Murphy   006–106       7G06   \n",
       "..     ...               ...                       ...       ...        ...   \n",
       "842     20    Marcia Wallace            Edna Krabappel  438–2018     LABF08   \n",
       "843     20  Maurice LaMarche            City Inspector  439–2019     LABF10   \n",
       "844     20    Elliot Page[Y]           Alaska Nebraska  439–2019     LABF10   \n",
       "845     20    Marcia Wallace            Edna Krabappel  439–2019     LABF10   \n",
       "846     20      Jodie Foster            Maggie Simpson  440–2020     LABF09   \n",
       "\n",
       "                              Episode title  \n",
       "0                         \"Bart the Genius\"  \n",
       "1                     \"Homer's Odyssey\"[35]  \n",
       "2                         \"Homer's Odyssey\"  \n",
       "3                            \"Moaning Lisa\"  \n",
       "4                        \"Moaning Lisa\"[36]  \n",
       "..                                      ...  \n",
       "842                    \"Father Knows Worst\"  \n",
       "843       \"Waverly Hills 9-0-2-1-D'oh\"[397]  \n",
       "844       \"Waverly Hills 9-0-2-1-D'oh\"[397]  \n",
       "845            \"Waverly Hills 9-0-2-1-D'oh\"  \n",
       "846  \"Four Great Women and a Manicure\"[398]  \n",
       "\n",
       "[847 rows x 6 columns]"
      ]
     },
     "execution_count": 83,
     "metadata": {},
     "output_type": "execute_result"
    }
   ],
   "source": [
    "SimpsonsGuestStars"
   ]
  },
  {
   "cell_type": "code",
   "execution_count": 84,
   "metadata": {},
   "outputs": [
    {
     "data": {
      "text/html": [
       "<div>\n",
       "<style scoped>\n",
       "    .dataframe tbody tr th:only-of-type {\n",
       "        vertical-align: middle;\n",
       "    }\n",
       "\n",
       "    .dataframe tbody tr th {\n",
       "        vertical-align: top;\n",
       "    }\n",
       "\n",
       "    .dataframe thead th {\n",
       "        text-align: right;\n",
       "    }\n",
       "</style>\n",
       "<table border=\"1\" class=\"dataframe\">\n",
       "  <thead>\n",
       "    <tr style=\"text-align: right;\">\n",
       "      <th></th>\n",
       "      <th>0</th>\n",
       "    </tr>\n",
       "  </thead>\n",
       "  <tbody>\n",
       "    <tr>\n",
       "      <th>0</th>\n",
       "      <td>Season        Guest star                  ...</td>\n",
       "    </tr>\n",
       "  </tbody>\n",
       "</table>\n",
       "</div>"
      ],
      "text/plain": [
       "                                                   0\n",
       "0      Season        Guest star                  ..."
      ]
     },
     "execution_count": 84,
     "metadata": {},
     "output_type": "execute_result"
    }
   ],
   "source": [
    "Simpsons_tableDF.head(30)"
   ]
  },
  {
   "cell_type": "code",
   "execution_count": null,
   "metadata": {},
   "outputs": [],
   "source": []
  },
  {
   "cell_type": "code",
   "execution_count": null,
   "metadata": {},
   "outputs": [],
   "source": []
  },
  {
   "cell_type": "code",
   "execution_count": null,
   "metadata": {},
   "outputs": [],
   "source": []
  }
 ],
 "metadata": {
  "kernelspec": {
   "display_name": "Python 3",
   "language": "python",
   "name": "python3"
  },
  "language_info": {
   "codemirror_mode": {
    "name": "ipython",
    "version": 3
   },
   "file_extension": ".py",
   "mimetype": "text/x-python",
   "name": "python",
   "nbconvert_exporter": "python",
   "pygments_lexer": "ipython3",
   "version": "3.8.3"
  }
 },
 "nbformat": 4,
 "nbformat_minor": 4
}
